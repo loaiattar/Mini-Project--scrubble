{
  "nbformat": 4,
  "nbformat_minor": 0,
  "metadata": {
    "colab": {
      "provenance": [],
      "include_colab_link": true
    },
    "kernelspec": {
      "name": "python3",
      "display_name": "Python 3"
    },
    "language_info": {
      "name": "python"
    }
  },
  "cells": [
    {
      "cell_type": "markdown",
      "metadata": {
        "id": "view-in-github",
        "colab_type": "text"
      },
      "source": [
        "<a href=\"https://colab.research.google.com/github/loaiattar/Mini-Project--scrubble/blob/main/PythonProjectScramble.ipynb\" target=\"_parent\"><img src=\"https://colab.research.google.com/assets/colab-badge.svg\" alt=\"Open In Colab\"/></a>"
      ]
    },
    {
      "cell_type": "code",
      "execution_count": null,
      "metadata": {
        "id": "eI23QuO7h2nG"
      },
      "outputs": [],
      "source": [
        "def found_word_easy():\n",
        "  from random import randint\n",
        "  list_easy = [\"animal\", \"saison\", \"couleur\", \"décour\", \"brouss\", \"boulot\",\"calque\", \"cerise\", \"courage\", \"dommage\", \"éclair\", \"étoile\",\"facile\", \"femmes\", \"garçon\", \"guitare\", \"horizon\", \"jardin\",\"jumeau\", \"laptop\", \"maison\", \"manche\", \"mélodie\", \"monde\",\"nuages\", \"papaye\", \"peinture\", \"plante\", \"plumer\", \"poupée\",\"quatre\", \"réveil\", \"rouleur\", \"sablier\", \"souris\", \"tempête\",\"tonner\", \"trois\", \"travail\", \"tunique\", \"village\", \"vitamin\",\"wouah\", \"zèbre\", \"abandon\", \"agenda\", \"bâtard\", \"briser\",\"céleste\", \"cloche\", \"couette\", \"défi\", \"détail\", \"éclair\",\"écrans\", \"façade\", \"flamme\", \"galerie\", \"glace\", \"groupe\",\"honneur\", \"imposer\", \"jalousie\", \"lumière\", \"mirage\", \"nature\",\"océan\", \"panier\", \"plaisir\", \"poivre\", \"réflex\", \"sacoche\",\"semaine\", \"sincère\", \"sourire\", \"système\", \"tapis\", \"tigre\",\"tranche\", \"trésor\", \"univers\", \"vortex\", \"bizarre\", \"chanté\",\"coller\", \"coupé\", \"douceur\", \"énergie\", \"faute\", \"jauger\",\"kilo\", \"lantern\", \"modèle\", \"saluer\", \"tremble\", \"zapper\"]\n",
        "  i = 0\n",
        "  stock_word = []\n",
        "\n",
        "  while i < 3 :\n",
        "      stock_word.append(list_easy[randint(0,(len(list_easy) - 1))])\n",
        "      i = i + 1\n",
        "\n",
        "  return stock_word"
      ]
    },
    {
      "cell_type": "code",
      "source": [
        "def found_word_medium():\n",
        "  from random import randint\n",
        "  list_medium = [\"abandonne\", \"absolu\", \"chaleure\", \"commun\", \"découverte\", \"dépouillé\",\"dynamique\", \"engouement\", \"épouvant\", \"explorer\", \"fantasme\", \"festival\",\"galaxies\", \"horizon\", \"inspirer\", \"intéress\", \"irrésist\", \"maisonne\",\"mélodien\", \"monde\", \"nouvelle\", \"optimiser\", \"préciser\", \"sensation\",\"souffler\", \"talentueux\", \"technique\", \"températ\", \"tendresse\", \"vibration\",\"vulgaris\", \"abracadab\", \"démarrer\", \"dramatique\", \"éclairci\", \"éléphant\",\"encourage\", \"épicerie\", \"exposition\", \"formidable\", \"frustrer\", \"généreuse\",\"guerre\", \"influence\", \"maîtriser\", \"manifeste\", \"naviguer\", \"occasion\",\"parallèle\", \"pénible\", \"photographe\", \"prédiction\", \"préféré\", \"progrès\",\"protéger\", \"raconter\", \"réagir\", \"réussite\", \"révolter\", \"savoir\",\"situation\", \"symptôme\", \"téléphone\", \"terriblement\", \"traverser\", \"utiliser\",\"abondant\", \"accumulate\", \"bénéfique\", \"caractère\", \"chirurgie\", \"civisme\",\"combinaison\", \"décoller\", \"délicieux\", \"éducation\", \"élevateur\", \"engagement\",\"grandeur\", \"indépend\", \"investir\", \"jubilant\", \"manifesto\", \"mystérieu\",\"oublieuse\", \"papeterie\", \"qualité\", \"récompens\", \"respecter\", \"spectacle\",\"territoire\", \"tradition\", \"tranquille\", \"universel\", \"valeur\", \"vigoureuse\"]\n",
        "  i = 0\n",
        "  stock_word = []\n",
        "\n",
        "  while i < 3 :\n",
        "      stock_word.append(list_medium[randint(0,(len(list_medium) - 1))])\n",
        "      i = i + 1\n",
        "  return stock_word"
      ],
      "metadata": {
        "id": "zbTw4vZZhAcy"
      },
      "execution_count": null,
      "outputs": []
    },
    {
      "cell_type": "code",
      "source": [
        "def found_word_hard():\n",
        "  from random import randint\n",
        "  list_hard = [\"abandonner\", \"accompagnement\", \"changement\", \"comportement\", \"développement\",\"démocratique\", \"environnement\", \"exploitation\", \"extraordinaire\", \"indépendance\",\"inspiration\", \"intervention\", \"manipulation\", \"préparation\", \"réalisation\",\"révolution\", \"responsabilité\", \"simplification\", \"transformation\", \"véritablement\",\"appréciation\", \"assassinat\", \"bénéficiaire\", \"captivation\", \"classification\",\"collaboration\", \"communication\", \"concentration\", \"découverte\", \"démolition\",\"démocratisation\", \"éducationnel\", \"énergétique\", \"enregistrement\", \"exagération\",\"exclamation\", \"imagination\", \"interdiction\", \"invitations\", \"investigation\",\"manipulations\", \"maturité\", \"notification\", \"participation\", \"prévention\",\"protection\", \"réconciliation\", \"réflexion\", \"réputation\", \"renouvellement\",\"rénovation\", \"simplification\", \"situationnel\", \"transcendance\", \"télécommunications\",\"accessibilité\", \"accomplissement\", \"approvisionnement\", \"association\", \"célébration\",\"collaboration\", \"comportemental\", \"définition\", \"déplacement\", \"développement\",\"désorganisation\", \"évaluation\", \"exploitation\", \"hystérisation\", \"individualisme\",\"interactivité\", \"interprétation\", \"métamorphose\", \"multidisciplinaire\", \"nouveauté\",\"perfectionner\", \"précaution\", \"réactionnaire\", \"réglementation\", \"réorientation\",\"responsabilisation\", \"satisfaisant\", \"situationnel\", \"souffrance\", \"surévaluation\",\"suscitation\", \"traduction\", \"transposition\", \"universitaire\", \"vérification\"]\n",
        "  i = 0\n",
        "  stock_word = []\n",
        "\n",
        "  while i < 3 :\n",
        "      stock_word.append(list_hard[randint(0,(len(list_hard) - 1))])\n",
        "      i = i + 1\n",
        "  return stock_word"
      ],
      "metadata": {
        "id": "ugpafs3wh2wt"
      },
      "execution_count": null,
      "outputs": []
    },
    {
      "cell_type": "code",
      "source": [
        "def compact_words(limit,easy,medium,hard):\n",
        "\n",
        "  easy_words = easy\n",
        "  medium_words = medium\n",
        "  hard_words = hard\n",
        "\n",
        "  i = 0\n",
        "  compact_words = [\"\",\"\",\"\"]\n",
        "\n",
        "  while i < limit:\n",
        "    compact_words[0] = compact_words[0] + easy_words[i]\n",
        "    compact_words[1] = compact_words[1] + medium_words[i]\n",
        "    compact_words[2] = compact_words[2] + hard_words[i]\n",
        "    i += 1\n",
        "\n",
        "  return compact_words"
      ],
      "metadata": {
        "id": "7wf_Y3eTi8EJ"
      },
      "execution_count": null,
      "outputs": []
    },
    {
      "cell_type": "code",
      "source": [
        "compact_words(3,found_word_easy(),found_word_medium(),found_word_hard())"
      ],
      "metadata": {
        "colab": {
          "base_uri": "https://localhost:8080/"
        },
        "id": "-TmgdToxolVW",
        "outputId": "f8a8ee4d-075e-43bc-cfc2-6e682b1fb119"
      },
      "execution_count": null,
      "outputs": [
        {
          "output_type": "execute_result",
          "data": {
            "text/plain": [
              "['nuagesimposertremble',\n",
              " 'intéresscombinaisonvaleur',\n",
              " 'collaborationrénovationapprovisionnement']"
            ]
          },
          "metadata": {},
          "execution_count": 30
        }
      ]
    },
    {
      "cell_type": "code",
      "source": [
        "def scan (num,list):\n",
        "  i = 0\n",
        "  while i < len(list):\n",
        "    if list[i] == num:\n",
        "      return True\n",
        "    i += 1\n",
        "  return False"
      ],
      "metadata": {
        "id": "xI3AR2kw5w4Z"
      },
      "execution_count": null,
      "outputs": []
    },
    {
      "cell_type": "code",
      "source": [
        "def delete_double (txt):\n",
        "  letters_non_duplicated = \"\"\n",
        "  char = \"\"\n",
        "  j = 0\n",
        "  search = \"\"\n",
        "  while  j < len(txt):\n",
        "    char = txt[j]\n",
        "    #print(char)\n",
        "    search =  scan(char,letters_non_duplicated)\n",
        "    if search == False:\n",
        "      letters_non_duplicated += char\n",
        "      #print(letters_non_duplicated)\n",
        "    j += 1\n",
        "    #print(letters_non_duplicated)\n",
        "  return letters_non_duplicated"
      ],
      "metadata": {
        "id": "1RiT5BkT333w"
      },
      "execution_count": null,
      "outputs": []
    },
    {
      "cell_type": "code",
      "source": [
        "delete_double(\"jfjdhdhsuzojsjsslskdjfdjdkslq\")"
      ],
      "metadata": {
        "id": "Uq34btWN4NRv",
        "colab": {
          "base_uri": "https://localhost:8080/",
          "height": 35
        },
        "outputId": "470f2868-fded-49b5-f93f-7e0f53110ce3"
      },
      "execution_count": null,
      "outputs": [
        {
          "output_type": "execute_result",
          "data": {
            "text/plain": [
              "'jfdhsuzolkq'"
            ],
            "application/vnd.google.colaboratory.intrinsic+json": {
              "type": "string"
            }
          },
          "metadata": {},
          "execution_count": 10
        }
      ]
    },
    {
      "cell_type": "code",
      "source": [
        "import random\n",
        "\n",
        "def shuffle2_letters(letters):\n",
        "    # Convert letters to an array\n",
        "    letters_list = list(letters)\n",
        "     # shuffle letters from letters array\n",
        "    # Shuffle the list using Fisher-Yates\n",
        "    # https://www.geeksforgeeks.org/shuffle-a-given-array-using-fisher-yates-shuffle-algorithm/\n",
        "    # Shuffle the list using Fisher-Yates with a while loop\n",
        "    letters_length = len(letters_list)\n",
        "    letter_index = letters_length - 1\n",
        "\n",
        "    while letter_index > 0:\n",
        "        generate = random.randint(0, letter_index)\n",
        "        # Swap elements\n",
        "        letters_list[letter_index], letters_list[generate] = letters_list[generate], letters_list[letter_index]\n",
        "        letter_index -= 1  # Decrement the index\n",
        "\n",
        "    # Convert list to string using a while loop\n",
        "    mixed_letters = \"\"\n",
        "    k = 0\n",
        "    while k < len(letters_list):\n",
        "        mixed_letters += letters_list[k]\n",
        "        k += 1\n",
        "\n",
        "    return mixed_letters\n"
      ],
      "metadata": {
        "id": "EPx2I5vAYZWL"
      },
      "execution_count": null,
      "outputs": []
    },
    {
      "cell_type": "code",
      "source": [
        "shuffle2_letters(\"gghhgghh\")"
      ],
      "metadata": {
        "colab": {
          "base_uri": "https://localhost:8080/",
          "height": 35
        },
        "id": "D_U0CU1jYrZ-",
        "outputId": "e7856d8e-47a5-4ded-b032-600651ddcaf2"
      },
      "execution_count": null,
      "outputs": [
        {
          "output_type": "execute_result",
          "data": {
            "text/plain": [
              "'ghhhhggg'"
            ],
            "application/vnd.google.colaboratory.intrinsic+json": {
              "type": "string"
            }
          },
          "metadata": {},
          "execution_count": 12
        }
      ]
    },
    {
      "cell_type": "code",
      "source": [
        "def scrabble_game():\n",
        "  print(\"Bienvenue dans le jeu du scrabble\")\n",
        "  print(\"Voici les règles du jeu :\")\n",
        "  print(\" -Il y a trois manches et trois mots à trouver par manche.\")\n",
        "  print(\" -Vous gagnez un point par mot trouvé.\")\n",
        "  print(\" -Vous pouvez quitter la manche en tapant 'quit'.\")\n",
        "  print(\"Bonne chance !\")\n",
        "\n",
        "\n",
        "  retry = \"oui\"\n",
        "  while retry != \"non\" or retry == \"oui\" :\n",
        "\n",
        "    easy = found_word_easy()\n",
        "    medium = found_word_medium()\n",
        "    hard = found_word_hard()\n",
        "\n",
        "    compact_word = compact_words(3,easy,medium,hard)\n",
        "\n",
        "\n",
        "    compact_easy = compact_word[0]\n",
        "    compact_medium = compact_word[1]\n",
        "    compact_hard = compact_word[2]\n",
        "\n",
        "\n",
        "    delete_double_easy = delete_double(compact_easy)\n",
        "    delete_double_medium = delete_double(compact_medium)\n",
        "    delete_double_hard = delete_double(compact_hard)\n",
        "\n",
        "\n",
        "    shuffle_easy = shuffle2_letters(delete_double_easy)\n",
        "    shuffle_medium = shuffle2_letters(delete_double_medium)\n",
        "    shuffle_hard = shuffle2_letters(delete_double_hard)\n",
        "\n",
        "\n",
        "\n",
        "    print(\"Première manche :\")\n",
        "    print(\"Voici les lettres :\",shuffle_easy)\n",
        "\n",
        "\n",
        "    point = 0\n",
        "    number_of_try = 0\n",
        "    try_answer = []\n",
        "\n",
        "\n",
        "    while number_of_try < 3 :\n",
        "      answer = input().lower()\n",
        "\n",
        "      if answer == \"quit\" :\n",
        "        break\n",
        "\n",
        "      if answer in try_answer :\n",
        "        print(\"Vous avez déjà essayé cette réponse.\")\n",
        "\n",
        "      else:\n",
        "        try_answer.append(answer)\n",
        "\n",
        "        if answer == easy[0] or answer == easy[1] or answer == easy[2]:\n",
        "          print(\"Bravo, vous avez trouvé un mot !\")\n",
        "          point = point + 1\n",
        "          print(\"Vous avez\",point,\"points.\")\n",
        "\n",
        "        else:\n",
        "          print(\"Dommage, vous avez perdu !\")\n",
        "\n",
        "      print((number_of_try + 1),\"/3 tentatives.\")\n",
        "      number_of_try = number_of_try + 1\n",
        "    print(\"Vous avez\", point , \"points.\")\n",
        "    print(\"Fin de la première manche.\")\n",
        "\n",
        "    print(\"Deuxième manche :\")\n",
        "    print(\"Voici les lettres :\",shuffle_medium)\n",
        "    number_of_try = 0\n",
        "    try_answer = []\n",
        "\n",
        "    while number_of_try < 3 :\n",
        "      answer = input().lower()\n",
        "\n",
        "      if answer == \"quit\" :\n",
        "        break\n",
        "\n",
        "      if answer in try_answer :\n",
        "        print(\"Vous avez déjà essayé cette réponse.\")\n",
        "\n",
        "      else:\n",
        "        try_answer.append(answer)\n",
        "\n",
        "        if answer == medium[0] or answer == medium[1] or answer == medium[2]:\n",
        "          print(\"Bravo, vous avez trouvé un mot !\")\n",
        "          point = point + 1\n",
        "          print(\"Vous avez\",point,\"points.\")\n",
        "\n",
        "        else:\n",
        "          print(\"Dommage, vous avez perdu !\")\n",
        "\n",
        "      print((number_of_try + 1),\"/3 tentatives.\")\n",
        "      number_of_try = number_of_try + 1\n",
        "    print(\"Vous avez\", point , \"points.\")\n",
        "    print(\"Fin de la deuxième manche.\")\n",
        "\n",
        "\n",
        "    print(\"Troisième manche :\")\n",
        "    print(\"Voici les lettres :\",shuffle_hard)\n",
        "    number_of_try = 0\n",
        "    try_answer = []\n",
        "\n",
        "    while number_of_try < 3 :\n",
        "      answer = input().lower()\n",
        "\n",
        "      if answer == \"quit\" :\n",
        "        break\n",
        "\n",
        "      if answer in try_answer :\n",
        "        print(\"Vous avez déjà essayé cette réponse.\")\n",
        "\n",
        "      else:\n",
        "        try_answer.append(answer)\n",
        "\n",
        "        if answer == hard[0] or answer == hard[1] or answer == hard[2]:\n",
        "          print(\"Bravo, vous avez trouvé un mot !\")\n",
        "          point = point + 1\n",
        "          print(\"Vous avez\",point,\"points.\")\n",
        "\n",
        "        else:\n",
        "          print(\"Dommage, vous avez perdu !\")\n",
        "\n",
        "      print((number_of_try + 1),\"/3 tentatives.\")\n",
        "      number_of_try = number_of_try + 1\n",
        "    print(\"Vous avez\", point , \"points.\")\n",
        "    print(\"Fin de la partie.\")\n",
        "    print(\"Votre score est de\",point,\"points.\")\n",
        "\n",
        "    print(\"Voulez-vous recommencer ?\")\n",
        "\n",
        "\n",
        "    retry = input().lower()\n",
        "    while retry != \"oui\" and retry != \"non\":\n",
        "      print(\"Veuillez répondre par oui ou non.\")\n",
        "      retry = input().lower()\n",
        "\n",
        "  print(\"Au revoir\")"
      ],
      "metadata": {
        "id": "M5eesEPbmdMb"
      },
      "execution_count": null,
      "outputs": []
    },
    {
      "cell_type": "code",
      "source": [
        "scrabble_game()"
      ],
      "metadata": {
        "colab": {
          "base_uri": "https://localhost:8080/"
        },
        "id": "7fp4Npr2nZ0T",
        "outputId": "863016cb-9324-407c-8423-12260e9ad6d5"
      },
      "execution_count": null,
      "outputs": [
        {
          "output_type": "stream",
          "name": "stdout",
          "text": [
            "Bienvenue dans le jeu du scrabble\n",
            "Voici les règles du jeu :\n",
            " -Il y a trois manches et trois mots à trouver par manche.\n",
            " -Vous gagnez un point par mot trouvé.\n",
            "Première manche :\n",
            "Voici les lettres : rogélticepua\n",
            "quit\n",
            "Vous avez 0 points.\n",
            "Fin de la première manche.\n",
            "Deuxième manche :\n",
            "Voici les lettres : étbmapigonedlus\n",
            "quit\n",
            "Vous avez 0 points.\n",
            "Fin de la deuxième manche.\n",
            "Troisième manche :\n",
            "Voici les lettres : tulvmnséecradoif\n",
            "quit\n",
            "Vous avez 0 points.\n",
            "Fin de la partie.\n",
            "Votre score est de 0 points.\n",
            "Voulez-vous recommencer ?\n",
            "non\n",
            "Au revoir\n"
          ]
        }
      ]
    }
  ]
}